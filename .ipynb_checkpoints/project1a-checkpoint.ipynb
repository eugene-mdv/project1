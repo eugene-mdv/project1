{
 "cells": [
  {
   "cell_type": "code",
   "execution_count": null,
   "metadata": {},
   "outputs": [],
   "source": [
    "#to do:\n",
    "# calc line slopes\n",
    "# binning by slope\n",
    "# research eng license"
   ]
  },
  {
   "cell_type": "code",
   "execution_count": 38,
   "metadata": {},
   "outputs": [],
   "source": [
    "%config IPCompleter.greedy=True"
   ]
  },
  {
   "cell_type": "code",
   "execution_count": 39,
   "metadata": {},
   "outputs": [],
   "source": [
    "import matplotlib.image as mpimg\n",
    "import matplotlib.pyplot as plt\n",
    "import numpy as np\n",
    "import cv2\n",
    "import ipywidgets\n",
    "from IPython.display import display\n",
    "from time import sleep\n",
    "#from moviepy.editor import VideoFileClip"
   ]
  },
  {
   "cell_type": "code",
   "execution_count": 51,
   "metadata": {},
   "outputs": [
    {
     "name": "stdout",
     "output_type": "stream",
     "text": [
      "1280.0\n",
      "720.0\n"
     ]
    },
    {
     "data": {
      "application/vnd.jupyter.widget-view+json": {
       "model_id": "13d2d8c8b60241918d162fed791d0f54",
       "version_major": 2,
       "version_minor": 0
      },
      "text/plain": [
       "Image(value=b'', format='jpeg', width='500')"
      ]
     },
     "metadata": {},
     "output_type": "display_data"
    },
    {
     "name": "stderr",
     "output_type": "stream",
     "text": [
      "/usr/local/lib/python3.6/dist-packages/ipykernel_launcher.py:80: RuntimeWarning: divide by zero encountered in int_scalars\n",
      "/usr/local/lib/python3.6/dist-packages/IPython/core/interactiveshell.py:3331: RankWarning: Polyfit may be poorly conditioned\n",
      "  exec(code_obj, self.user_global_ns, self.user_ns)\n",
      "/usr/local/lib/python3.6/dist-packages/IPython/core/interactiveshell.py:3331: RankWarning: Polyfit may be poorly conditioned\n",
      "  exec(code_obj, self.user_global_ns, self.user_ns)\n",
      "/usr/local/lib/python3.6/dist-packages/IPython/core/interactiveshell.py:3331: RankWarning: Polyfit may be poorly conditioned\n",
      "  exec(code_obj, self.user_global_ns, self.user_ns)\n",
      "/usr/local/lib/python3.6/dist-packages/IPython/core/interactiveshell.py:3331: RankWarning: Polyfit may be poorly conditioned\n",
      "  exec(code_obj, self.user_global_ns, self.user_ns)\n",
      "/usr/local/lib/python3.6/dist-packages/IPython/core/interactiveshell.py:3331: RankWarning: Polyfit may be poorly conditioned\n",
      "  exec(code_obj, self.user_global_ns, self.user_ns)\n",
      "/usr/local/lib/python3.6/dist-packages/IPython/core/interactiveshell.py:3331: RankWarning: Polyfit may be poorly conditioned\n",
      "  exec(code_obj, self.user_global_ns, self.user_ns)\n",
      "/usr/local/lib/python3.6/dist-packages/IPython/core/interactiveshell.py:3331: RankWarning: Polyfit may be poorly conditioned\n",
      "  exec(code_obj, self.user_global_ns, self.user_ns)\n",
      "/usr/local/lib/python3.6/dist-packages/IPython/core/interactiveshell.py:3331: RankWarning: Polyfit may be poorly conditioned\n",
      "  exec(code_obj, self.user_global_ns, self.user_ns)\n",
      "/usr/local/lib/python3.6/dist-packages/IPython/core/interactiveshell.py:3331: RankWarning: Polyfit may be poorly conditioned\n",
      "  exec(code_obj, self.user_global_ns, self.user_ns)\n",
      "/home/nano/.local/lib/python3.6/site-packages/numpy/core/fromnumeric.py:3335: RuntimeWarning: Mean of empty slice.\n",
      "  out=out, **kwargs)\n",
      "/home/nano/.local/lib/python3.6/site-packages/numpy/core/_methods.py:161: RuntimeWarning: invalid value encountered in double_scalars\n",
      "  ret = ret.dtype.type(ret / rcount)\n"
     ]
    },
    {
     "ename": "ValueError",
     "evalue": "cannot convert float NaN to integer",
     "output_type": "error",
     "traceback": [
      "\u001b[0;31m---------------------------------------------------------------------------\u001b[0m",
      "\u001b[0;31mValueError\u001b[0m                                Traceback (most recent call last)",
      "\u001b[0;32m<ipython-input-51-a060194a7b67>\u001b[0m in \u001b[0;36m<module>\u001b[0;34m\u001b[0m\n\u001b[1;32m     95\u001b[0m \u001b[0;34m\u001b[0m\u001b[0m\n\u001b[1;32m     96\u001b[0m     \u001b[0;31m#draw the lane lines\u001b[0m\u001b[0;34m\u001b[0m\u001b[0;34m\u001b[0m\u001b[0;34m\u001b[0m\u001b[0m\n\u001b[0;32m---> 97\u001b[0;31m     \u001b[0mcv2\u001b[0m\u001b[0;34m.\u001b[0m\u001b[0mline\u001b[0m\u001b[0;34m(\u001b[0m\u001b[0mline_image\u001b[0m\u001b[0;34m,\u001b[0m \u001b[0;34m(\u001b[0m\u001b[0mmaskBottomLeft\u001b[0m\u001b[0;34m[\u001b[0m\u001b[0;36m0\u001b[0m\u001b[0;34m]\u001b[0m\u001b[0;34m,\u001b[0m \u001b[0mint\u001b[0m\u001b[0;34m(\u001b[0m\u001b[0mfxLeft\u001b[0m\u001b[0;34m(\u001b[0m\u001b[0mmaskBottomLeft\u001b[0m\u001b[0;34m[\u001b[0m\u001b[0;36m0\u001b[0m\u001b[0;34m]\u001b[0m\u001b[0;34m)\u001b[0m\u001b[0;34m)\u001b[0m\u001b[0;34m)\u001b[0m\u001b[0;34m,\u001b[0m \u001b[0;34m(\u001b[0m\u001b[0mmaskTopLeft\u001b[0m\u001b[0;34m[\u001b[0m\u001b[0;36m0\u001b[0m\u001b[0;34m]\u001b[0m\u001b[0;34m,\u001b[0m \u001b[0mint\u001b[0m\u001b[0;34m(\u001b[0m\u001b[0mfxLeft\u001b[0m\u001b[0;34m(\u001b[0m\u001b[0mmaskTopLeft\u001b[0m\u001b[0;34m[\u001b[0m\u001b[0;36m0\u001b[0m\u001b[0;34m]\u001b[0m\u001b[0;34m)\u001b[0m\u001b[0;34m)\u001b[0m\u001b[0;34m)\u001b[0m\u001b[0;34m,\u001b[0m \u001b[0;34m(\u001b[0m\u001b[0;36m0\u001b[0m\u001b[0;34m,\u001b[0m\u001b[0;36m0\u001b[0m\u001b[0;34m,\u001b[0m\u001b[0;36m255\u001b[0m\u001b[0;34m)\u001b[0m\u001b[0;34m,\u001b[0m \u001b[0;36m10\u001b[0m\u001b[0;34m)\u001b[0m\u001b[0;34m\u001b[0m\u001b[0;34m\u001b[0m\u001b[0m\n\u001b[0m\u001b[1;32m     98\u001b[0m     \u001b[0mcv2\u001b[0m\u001b[0;34m.\u001b[0m\u001b[0mline\u001b[0m\u001b[0;34m(\u001b[0m\u001b[0mline_image\u001b[0m\u001b[0;34m,\u001b[0m \u001b[0;34m(\u001b[0m\u001b[0mmaskTopRight\u001b[0m\u001b[0;34m[\u001b[0m\u001b[0;36m0\u001b[0m\u001b[0;34m]\u001b[0m\u001b[0;34m,\u001b[0m \u001b[0mint\u001b[0m\u001b[0;34m(\u001b[0m\u001b[0mfxRight\u001b[0m\u001b[0;34m(\u001b[0m\u001b[0mmaskTopRight\u001b[0m\u001b[0;34m[\u001b[0m\u001b[0;36m0\u001b[0m\u001b[0;34m]\u001b[0m\u001b[0;34m)\u001b[0m\u001b[0;34m)\u001b[0m\u001b[0;34m)\u001b[0m\u001b[0;34m,\u001b[0m \u001b[0;34m(\u001b[0m\u001b[0mmaskBottomRight\u001b[0m\u001b[0;34m[\u001b[0m\u001b[0;36m0\u001b[0m\u001b[0;34m]\u001b[0m\u001b[0;34m,\u001b[0m \u001b[0mint\u001b[0m\u001b[0;34m(\u001b[0m\u001b[0mfxRight\u001b[0m\u001b[0;34m(\u001b[0m\u001b[0mmaskBottomRight\u001b[0m\u001b[0;34m[\u001b[0m\u001b[0;36m0\u001b[0m\u001b[0;34m]\u001b[0m\u001b[0;34m)\u001b[0m\u001b[0;34m)\u001b[0m\u001b[0;34m)\u001b[0m\u001b[0;34m,\u001b[0m \u001b[0;34m(\u001b[0m\u001b[0;36m0\u001b[0m\u001b[0;34m,\u001b[0m\u001b[0;36m0\u001b[0m\u001b[0;34m,\u001b[0m\u001b[0;36m255\u001b[0m\u001b[0;34m)\u001b[0m\u001b[0;34m,\u001b[0m \u001b[0;36m10\u001b[0m\u001b[0;34m)\u001b[0m\u001b[0;34m\u001b[0m\u001b[0;34m\u001b[0m\u001b[0m\n\u001b[1;32m     99\u001b[0m \u001b[0;34m\u001b[0m\u001b[0m\n",
      "\u001b[0;31mValueError\u001b[0m: cannot convert float NaN to integer"
     ]
    }
   ],
   "source": [
    "#filename = \"solidYellowLeft.mp4\"\n",
    "#filename = \"solidWhiteRight.mp4\"\n",
    "filename = \"challenge.mp4\"\n",
    "\n",
    "#open the video source\n",
    "cap = cv2.VideoCapture(\"test_videos/\" + filename)\n",
    "fps = cap.get(cv2.CAP_PROP_FPS)\n",
    "print(cap.get(cv2.CAP_PROP_FRAME_WIDTH))\n",
    "print(cap.get(cv2.CAP_PROP_FRAME_HEIGHT))\n",
    "#read one frame to get image size for output init\n",
    "ret, image = cap.read()\n",
    "imshape = image.shape\n",
    "#set up video output\n",
    "out = cv2.VideoWriter(\"test_videos_output/\" + filename[:-4] + \"_out.avi\", cv2.VideoWriter_fourcc('H','2','6','4'), fps, (imshape[1], imshape[0]))\n",
    "#initialize image widget\n",
    "image_widget = ipywidgets.Image(format='jpeg')\n",
    "image_widget.width = 500\n",
    "display(image_widget)\n",
    "\n",
    "#main video processing loop\n",
    "n = 1800\n",
    "while n > 0: #cap.isOpened()\n",
    "    n -= 1\n",
    "    #read the next frame\n",
    "    ret, image = cap.read()\n",
    "    \n",
    "    #break the loop on EOF\n",
    "    if ret == 0:\n",
    "        break\n",
    "    \n",
    "    #create the grayscale version of the frame\n",
    "    gray = cv2.cvtColor(image, cv2.COLOR_RGB2GRAY)\n",
    "    \n",
    "    #blur the grayscale image\n",
    "    kernel_size = 5\n",
    "    blur_gray = cv2.GaussianBlur(gray, (kernel_size, kernel_size), 0)\n",
    "    \n",
    "    #Canny edge detection\n",
    "    low_thr = 50\n",
    "    high_thr = 150\n",
    "    edges = cv2.Canny(blur_gray, low_thr, high_thr)\n",
    "    \n",
    "     \n",
    "    #plt.imshow(edges, cmap='gray')\n",
    "    mask = np.zeros_like(edges)\n",
    "    ignore_mask_color = 255\n",
    "    \n",
    "    #define the mask shape\n",
    "    #imshape = edges.shape\n",
    "    maskBottomLeft = (0,imshape[0])\n",
    "    maskTopLeft = (int(imshape[1]/2-imshape[1]/30),int(imshape[0]/2+imshape[0]/10))\n",
    "    maskTopRight = (int(imshape[1]/2+imshape[1]/30),int(imshape[0]/2+imshape[0]/10))\n",
    "    maskBottomRight = (imshape[1],imshape[0])\n",
    "    vertices = np.array([[maskBottomLeft, maskTopLeft, maskTopRight, maskBottomRight]], dtype=np.int32)\n",
    "    \n",
    "    #create the mask\n",
    "    cv2.fillPoly(mask, vertices, ignore_mask_color)\n",
    "    \n",
    "    #apply the mask to detected edges\n",
    "    masked_edges = cv2.bitwise_and(edges, mask)\n",
    "\n",
    "    #Hough transform\n",
    "    rho = 2 # distance resolution in pixels of the Hough grid\n",
    "    theta = np.pi/180 # angular resolution in radians of the Hough grid\n",
    "    threshold = 15 #35     # minimum number of votes (intersections in Hough grid cell)\n",
    "    min_line_length = 25 #minimum number of pixels making up a line\n",
    "    max_line_gap = 20    # maximum gap in pixels between connectable line segments\n",
    "    line_image = np.copy(image)*0 # creating a blank to draw lines on\n",
    "    lines = cv2.HoughLinesP(masked_edges, rho, theta, threshold, np.array([]),\n",
    "                            min_line_length, max_line_gap)\n",
    "    \n",
    "    #iterating through detected lines\n",
    "    leftSlope = []\n",
    "    leftIntercept = []\n",
    "    rightSlope = []\n",
    "    rightIntercept = []\n",
    "    for line in lines:\n",
    "        for x1,y1,x2,y2 in line:\n",
    "            #calculating line slope\n",
    "            slope = (y2-y1)/(x2-x1)\n",
    "            #process the left lane lines \n",
    "            if slope < -0.4:\n",
    "                slope, intercept = np.polyfit([x1, x2], [y1, y2], 1)\n",
    "                leftSlope.append(slope)\n",
    "                leftIntercept.append(intercept)\n",
    "            #process the right lane lines\n",
    "            if slope > 0.4:  \n",
    "                slope, intercept = np.polyfit([x1, x2], [y1, y2], 1)\n",
    "                rightSlope.append(slope)\n",
    "                rightIntercept.append(intercept)\n",
    "            \n",
    "    #define the left lane and right lane functions\n",
    "    fxLeft = np.poly1d((np.mean(leftSlope), np.mean(leftIntercept)))\n",
    "    fxRight = np.poly1d((np.mean(rightSlope), np.mean(rightIntercept)))\n",
    "    \n",
    "    #draw the lane lines\n",
    "    cv2.line(line_image, (maskBottomLeft[0], int(fxLeft(maskBottomLeft[0]))), (maskTopLeft[0], int(fxLeft(maskTopLeft[0]))), (0,0,255), 10)\n",
    "    cv2.line(line_image, (maskTopRight[0], int(fxRight(maskTopRight[0]))), (maskBottomRight[0], int(fxRight(maskBottomRight[0]))), (0,0,255), 10)\n",
    "    \n",
    "    #apply lines to the original image\n",
    "    lines_img = cv2.addWeighted(image, 0.8, line_image, 1, 0)\n",
    "    \n",
    "    #update the image widget\n",
    "    image_widget.value = cv2.imencode('.jpg', lines_img)[1].tostring()\n",
    "\n",
    "    out.write(lines_img)\n",
    "\n",
    "cap.release()\n",
    "out.release()"
   ]
  },
  {
   "cell_type": "code",
   "execution_count": null,
   "metadata": {},
   "outputs": [],
   "source": []
  },
  {
   "cell_type": "code",
   "execution_count": null,
   "metadata": {},
   "outputs": [],
   "source": []
  }
 ],
 "metadata": {
  "kernelspec": {
   "display_name": "Python 3",
   "language": "python",
   "name": "python3"
  },
  "language_info": {
   "codemirror_mode": {
    "name": "ipython",
    "version": 3
   },
   "file_extension": ".py",
   "mimetype": "text/x-python",
   "name": "python",
   "nbconvert_exporter": "python",
   "pygments_lexer": "ipython3",
   "version": "3.6.9"
  }
 },
 "nbformat": 4,
 "nbformat_minor": 4
}
